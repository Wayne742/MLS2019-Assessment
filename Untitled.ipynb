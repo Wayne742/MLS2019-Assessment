{
 "cells": [
  {
   "cell_type": "markdown",
   "metadata": {},
   "source": [
    "# Introduction.\n",
    "\n",
    "This notebook contains my analysis of the Boston Housing dataset. \n",
    "\n",
    "The Boston Housing dataset contains information of house prices in various parts of Boston Massachusetts. The dataset was originally published by Harrison, D. and Rubinfeld, D.L. in their paper \"Hedonic prices and the demand for clean air', J. Environ. Economics & Management, vol.5, 81-102, 1978\"(Delve 1996). The dataset was derived from information collected by the U.S. Census Service concerning house prices in the Boston area (Delve 1996).\n",
    "\n",
    "The dataset is used extensively in Data Science and Machine Learning and was orginally part of the UCI Machine Learning Repository (Medium 2019). The dataset is typically used as a training set for algorithms used in predictive analytics. The goal is to predict the value of house prices using the given variables (Medium 2019). \n",
    "\n",
    "The sequence of this notebook is as follows;\n",
    "\n",
    "1. A description of the dataset using Descriptive Statics.\n",
    "2. The application of inferential statics to analyse the relationship between the variables (Thinking of Correlation matrix).\n",
    "3. Prediction.\n",
    "\n"
   ]
  },
  {
   "cell_type": "markdown",
   "metadata": {},
   "source": [
    "I'm starting off by importing the necessary libraries."
   ]
  },
  {
   "cell_type": "code",
   "execution_count": 1,
   "metadata": {},
   "outputs": [],
   "source": [
    "# Importing the libraries I want to perform the analysis on the Dataset.\n",
    "import numpy as np\n",
    "import matplotlib.pyplot as plt\n",
    "import pandas as pd\n",
    "import seaborn as sns"
   ]
  },
  {
   "cell_type": "markdown",
   "metadata": {},
   "source": [
    "Next, I will import the dataset from the csv file. Here is a link to the dataset."
   ]
  },
  {
   "cell_type": "markdown",
   "metadata": {},
   "source": [
    "## Describe (20%)\n",
    "Use descriptive statistics and plots to describe the Boston House Prices dataset.\n",
    "\n",
    "What about the dataset?\n",
    "Who put it together and how, when and for what purpose?\n",
    "Is it possible that the datase was gerrymandered in anyway so as to produce a particular outcome?\n",
    "Ian has asked that we specificially look at the relationship between house prices and closeness to the Charles river, is there a corelation? Or is this corelation explained in other ways?\n",
    "\n",
    "EG. Could closeness to the Charles river be related to lower air polution thus making the area more desireable to live in thus pushing up the house price, if ths was the case could it be that being close to the Charles river meant that you were further away from large population centres and natually had a lower crime rate as a result of that. SO it's not closeness to the river that matters rather a distance form population centres.\n",
    "\n",
    "Who decided on the measerments to use? Are these reasonable to use in such a dataset?\n",
    "\n",
    "Ian has asked us to analyses the dataset from the perspective of the relationship between median house prices and being close to the Charles river. Is it fair to assume that house prices are the important metric for considereation.\n",
    "\n",
    "Maybe there is a relationship between other variables that indirectly impact the price of houses or perhaps there is another factor that influences house prices and this is not measured at all in the dataset.\n",
    "\n",
    "And another thing is what do the descriptive statisitics actually tell us about a dataset? How does a description of the dataset inforn your thinking, decision making or influence further analyses? How do you decide what statistics will give you a meaningful insight or not as the case maybe! Does the nature of your decision or whatever influence your choice of statistics used to describe the dataset?"
   ]
  },
  {
   "cell_type": "code",
   "execution_count": null,
   "metadata": {},
   "outputs": [],
   "source": []
  },
  {
   "cell_type": "markdown",
   "metadata": {},
   "source": [
    "## Infer (20%)\n",
    "Use inferential statistics to analyse whether there is a significant difference between houses along the Charles river and those that aren't.\n",
    "\n",
    "Explain and discuss my findings."
   ]
  },
  {
   "cell_type": "code",
   "execution_count": null,
   "metadata": {},
   "outputs": [],
   "source": []
  },
  {
   "cell_type": "markdown",
   "metadata": {},
   "source": [
    "## Predict (60%)\n",
    "Use keras to create a neural network that can predict the median house based on the other variables in the dataset.\n",
    "\n"
   ]
  },
  {
   "cell_type": "markdown",
   "metadata": {},
   "source": [
    "Notes.\n",
    "Possible aditional analyses. \n",
    "Is this unique to Boston and the Charles river? Does this occur in other cities? \n",
    "What about London, Paris or Dublin? Or Galway and the Corrib?\n",
    "Is it only rivers that cause this or do other bodies of water?"
   ]
  },
  {
   "cell_type": "markdown",
   "metadata": {},
   "source": [
    "## References.\n",
    "\n",
    "Delve 1996, 'The Boston Housing Dataset', CS Toronto webpage, https://www.cs.toronto.edu/~delve/data/boston/bostonDetail.html Accessed on November 6th 2019.\n",
    "\n",
    "Harrison, D. and Rubinfeld, D.L.,\"Hedonic prices and the demand for clean air', J. Environ. Economics & Management, vol.5, 81-102, 1978\"\n",
    "\n",
    "Medium 2019, 'EDA on Boston Housing Dataset', https://medium.com/@utkarshgpt47/eda-on-boston-housing-dataset-8745644ab368 Accessed on November 6th 2019."
   ]
  },
  {
   "cell_type": "code",
   "execution_count": null,
   "metadata": {},
   "outputs": [],
   "source": []
  }
 ],
 "metadata": {
  "kernelspec": {
   "display_name": "Python 3",
   "language": "python",
   "name": "python3"
  },
  "language_info": {
   "codemirror_mode": {
    "name": "ipython",
    "version": 3
   },
   "file_extension": ".py",
   "mimetype": "text/x-python",
   "name": "python",
   "nbconvert_exporter": "python",
   "pygments_lexer": "ipython3",
   "version": "3.7.2"
  }
 },
 "nbformat": 4,
 "nbformat_minor": 2
}
